{
 "cells": [
  {
   "cell_type": "code",
   "execution_count": 1,
   "id": "8a8b5909",
   "metadata": {},
   "outputs": [],
   "source": [
    "#import python libraries for our analysis\n",
    "\n",
    "import pandas as pd\n",
    "import numpy as np\n",
    "import matplotlib.pyplot as plt\n",
    "import seaborn as sns\n",
    "%matplotlib inline"
   ]
  },
  {
   "cell_type": "code",
   "execution_count": 2,
   "id": "f2fc34a8",
   "metadata": {},
   "outputs": [],
   "source": [
    "#load dataset\n",
    "\n",
    "pizza_df=pd.read_excel(\"Data Model - Pizza Sales.xlsx\")"
   ]
  },
  {
   "cell_type": "code",
   "execution_count": 4,
   "id": "a50362db",
   "metadata": {},
   "outputs": [
    {
     "data": {
      "text/html": [
       "<div>\n",
       "<style scoped>\n",
       "    .dataframe tbody tr th:only-of-type {\n",
       "        vertical-align: middle;\n",
       "    }\n",
       "\n",
       "    .dataframe tbody tr th {\n",
       "        vertical-align: top;\n",
       "    }\n",
       "\n",
       "    .dataframe thead th {\n",
       "        text-align: right;\n",
       "    }\n",
       "</style>\n",
       "<table border=\"1\" class=\"dataframe\">\n",
       "  <thead>\n",
       "    <tr style=\"text-align: right;\">\n",
       "      <th></th>\n",
       "      <th>order_details_id</th>\n",
       "      <th>order_id</th>\n",
       "      <th>pizza_id</th>\n",
       "      <th>quantity</th>\n",
       "      <th>order_date</th>\n",
       "      <th>order_time</th>\n",
       "      <th>unit_price</th>\n",
       "      <th>total_price</th>\n",
       "      <th>pizza_size</th>\n",
       "      <th>pizza_category</th>\n",
       "      <th>pizza_ingredients</th>\n",
       "      <th>pizza_name</th>\n",
       "    </tr>\n",
       "  </thead>\n",
       "  <tbody>\n",
       "    <tr>\n",
       "      <th>0</th>\n",
       "      <td>1</td>\n",
       "      <td>1</td>\n",
       "      <td>hawaiian_m</td>\n",
       "      <td>1</td>\n",
       "      <td>2015-01-01</td>\n",
       "      <td>11:38:36</td>\n",
       "      <td>13.25</td>\n",
       "      <td>13.25</td>\n",
       "      <td>M</td>\n",
       "      <td>Classic</td>\n",
       "      <td>Sliced Ham, Pineapple, Mozzarella Cheese</td>\n",
       "      <td>The Hawaiian Pizza</td>\n",
       "    </tr>\n",
       "    <tr>\n",
       "      <th>1</th>\n",
       "      <td>2</td>\n",
       "      <td>2</td>\n",
       "      <td>classic_dlx_m</td>\n",
       "      <td>1</td>\n",
       "      <td>2015-01-01</td>\n",
       "      <td>11:57:40</td>\n",
       "      <td>16.00</td>\n",
       "      <td>16.00</td>\n",
       "      <td>M</td>\n",
       "      <td>Classic</td>\n",
       "      <td>Pepperoni, Mushrooms, Red Onions, Red Peppers,...</td>\n",
       "      <td>The Classic Deluxe Pizza</td>\n",
       "    </tr>\n",
       "    <tr>\n",
       "      <th>2</th>\n",
       "      <td>3</td>\n",
       "      <td>2</td>\n",
       "      <td>five_cheese_l</td>\n",
       "      <td>1</td>\n",
       "      <td>2015-01-01</td>\n",
       "      <td>11:57:40</td>\n",
       "      <td>18.50</td>\n",
       "      <td>18.50</td>\n",
       "      <td>L</td>\n",
       "      <td>Veggie</td>\n",
       "      <td>Mozzarella Cheese, Provolone Cheese, Smoked Go...</td>\n",
       "      <td>The Five Cheese Pizza</td>\n",
       "    </tr>\n",
       "    <tr>\n",
       "      <th>3</th>\n",
       "      <td>4</td>\n",
       "      <td>2</td>\n",
       "      <td>ital_supr_l</td>\n",
       "      <td>1</td>\n",
       "      <td>2015-01-01</td>\n",
       "      <td>11:57:40</td>\n",
       "      <td>20.75</td>\n",
       "      <td>20.75</td>\n",
       "      <td>L</td>\n",
       "      <td>Supreme</td>\n",
       "      <td>Calabrese Salami, Capocollo, Tomatoes, Red Oni...</td>\n",
       "      <td>The Italian Supreme Pizza</td>\n",
       "    </tr>\n",
       "    <tr>\n",
       "      <th>4</th>\n",
       "      <td>5</td>\n",
       "      <td>2</td>\n",
       "      <td>mexicana_m</td>\n",
       "      <td>1</td>\n",
       "      <td>2015-01-01</td>\n",
       "      <td>11:57:40</td>\n",
       "      <td>16.00</td>\n",
       "      <td>16.00</td>\n",
       "      <td>M</td>\n",
       "      <td>Veggie</td>\n",
       "      <td>Tomatoes, Red Peppers, Jalapeno Peppers, Red O...</td>\n",
       "      <td>The Mexicana Pizza</td>\n",
       "    </tr>\n",
       "  </tbody>\n",
       "</table>\n",
       "</div>"
      ],
      "text/plain": [
       "   order_details_id  order_id       pizza_id  quantity order_date order_time  \\\n",
       "0                 1         1     hawaiian_m         1 2015-01-01   11:38:36   \n",
       "1                 2         2  classic_dlx_m         1 2015-01-01   11:57:40   \n",
       "2                 3         2  five_cheese_l         1 2015-01-01   11:57:40   \n",
       "3                 4         2    ital_supr_l         1 2015-01-01   11:57:40   \n",
       "4                 5         2     mexicana_m         1 2015-01-01   11:57:40   \n",
       "\n",
       "   unit_price  total_price pizza_size pizza_category  \\\n",
       "0       13.25        13.25          M        Classic   \n",
       "1       16.00        16.00          M        Classic   \n",
       "2       18.50        18.50          L         Veggie   \n",
       "3       20.75        20.75          L        Supreme   \n",
       "4       16.00        16.00          M         Veggie   \n",
       "\n",
       "                                   pizza_ingredients  \\\n",
       "0           Sliced Ham, Pineapple, Mozzarella Cheese   \n",
       "1  Pepperoni, Mushrooms, Red Onions, Red Peppers,...   \n",
       "2  Mozzarella Cheese, Provolone Cheese, Smoked Go...   \n",
       "3  Calabrese Salami, Capocollo, Tomatoes, Red Oni...   \n",
       "4  Tomatoes, Red Peppers, Jalapeno Peppers, Red O...   \n",
       "\n",
       "                  pizza_name  \n",
       "0         The Hawaiian Pizza  \n",
       "1   The Classic Deluxe Pizza  \n",
       "2      The Five Cheese Pizza  \n",
       "3  The Italian Supreme Pizza  \n",
       "4         The Mexicana Pizza  "
      ]
     },
     "execution_count": 4,
     "metadata": {},
     "output_type": "execute_result"
    }
   ],
   "source": [
    "pizza_df.head()"
   ]
  },
  {
   "cell_type": "code",
   "execution_count": 5,
   "id": "5b807f49",
   "metadata": {},
   "outputs": [
    {
     "name": "stdout",
     "output_type": "stream",
     "text": [
      "<class 'pandas.core.frame.DataFrame'>\n",
      "RangeIndex: 48620 entries, 0 to 48619\n",
      "Data columns (total 12 columns):\n",
      " #   Column             Non-Null Count  Dtype         \n",
      "---  ------             --------------  -----         \n",
      " 0   order_details_id   48620 non-null  int64         \n",
      " 1   order_id           48620 non-null  int64         \n",
      " 2   pizza_id           48620 non-null  object        \n",
      " 3   quantity           48620 non-null  int64         \n",
      " 4   order_date         48620 non-null  datetime64[ns]\n",
      " 5   order_time         48620 non-null  object        \n",
      " 6   unit_price         48620 non-null  float64       \n",
      " 7   total_price        48620 non-null  float64       \n",
      " 8   pizza_size         48620 non-null  object        \n",
      " 9   pizza_category     48620 non-null  object        \n",
      " 10  pizza_ingredients  48620 non-null  object        \n",
      " 11  pizza_name         48620 non-null  object        \n",
      "dtypes: datetime64[ns](1), float64(2), int64(3), object(6)\n",
      "memory usage: 4.5+ MB\n"
     ]
    }
   ],
   "source": [
    "#using the info function to determine the number of columns\n",
    "\n",
    "pizza_df.info()"
   ]
  },
  {
   "cell_type": "code",
   "execution_count": 6,
   "id": "4a956f0f",
   "metadata": {},
   "outputs": [],
   "source": [
    "#the above info table shows we have no null value in our dataset. we have a total of 12 columns and 48620 rows"
   ]
  },
  {
   "cell_type": "code",
   "execution_count": 7,
   "id": "f7d29c70",
   "metadata": {},
   "outputs": [
    {
     "data": {
      "text/html": [
       "<div>\n",
       "<style scoped>\n",
       "    .dataframe tbody tr th:only-of-type {\n",
       "        vertical-align: middle;\n",
       "    }\n",
       "\n",
       "    .dataframe tbody tr th {\n",
       "        vertical-align: top;\n",
       "    }\n",
       "\n",
       "    .dataframe thead th {\n",
       "        text-align: right;\n",
       "    }\n",
       "</style>\n",
       "<table border=\"1\" class=\"dataframe\">\n",
       "  <thead>\n",
       "    <tr style=\"text-align: right;\">\n",
       "      <th></th>\n",
       "      <th>order_details_id</th>\n",
       "      <th>order_id</th>\n",
       "      <th>quantity</th>\n",
       "      <th>unit_price</th>\n",
       "      <th>total_price</th>\n",
       "    </tr>\n",
       "  </thead>\n",
       "  <tbody>\n",
       "    <tr>\n",
       "      <th>count</th>\n",
       "      <td>48620.000000</td>\n",
       "      <td>48620.000000</td>\n",
       "      <td>48620.000000</td>\n",
       "      <td>48620.000000</td>\n",
       "      <td>48620.000000</td>\n",
       "    </tr>\n",
       "    <tr>\n",
       "      <th>mean</th>\n",
       "      <td>24310.500000</td>\n",
       "      <td>10701.479761</td>\n",
       "      <td>1.019622</td>\n",
       "      <td>16.494132</td>\n",
       "      <td>16.821474</td>\n",
       "    </tr>\n",
       "    <tr>\n",
       "      <th>std</th>\n",
       "      <td>14035.529381</td>\n",
       "      <td>6180.119770</td>\n",
       "      <td>0.143077</td>\n",
       "      <td>3.621789</td>\n",
       "      <td>4.437398</td>\n",
       "    </tr>\n",
       "    <tr>\n",
       "      <th>min</th>\n",
       "      <td>1.000000</td>\n",
       "      <td>1.000000</td>\n",
       "      <td>1.000000</td>\n",
       "      <td>9.750000</td>\n",
       "      <td>9.750000</td>\n",
       "    </tr>\n",
       "    <tr>\n",
       "      <th>25%</th>\n",
       "      <td>12155.750000</td>\n",
       "      <td>5337.000000</td>\n",
       "      <td>1.000000</td>\n",
       "      <td>12.750000</td>\n",
       "      <td>12.750000</td>\n",
       "    </tr>\n",
       "    <tr>\n",
       "      <th>50%</th>\n",
       "      <td>24310.500000</td>\n",
       "      <td>10682.500000</td>\n",
       "      <td>1.000000</td>\n",
       "      <td>16.500000</td>\n",
       "      <td>16.500000</td>\n",
       "    </tr>\n",
       "    <tr>\n",
       "      <th>75%</th>\n",
       "      <td>36465.250000</td>\n",
       "      <td>16100.000000</td>\n",
       "      <td>1.000000</td>\n",
       "      <td>20.250000</td>\n",
       "      <td>20.500000</td>\n",
       "    </tr>\n",
       "    <tr>\n",
       "      <th>max</th>\n",
       "      <td>48620.000000</td>\n",
       "      <td>21350.000000</td>\n",
       "      <td>4.000000</td>\n",
       "      <td>35.950000</td>\n",
       "      <td>83.000000</td>\n",
       "    </tr>\n",
       "  </tbody>\n",
       "</table>\n",
       "</div>"
      ],
      "text/plain": [
       "       order_details_id      order_id      quantity    unit_price  \\\n",
       "count      48620.000000  48620.000000  48620.000000  48620.000000   \n",
       "mean       24310.500000  10701.479761      1.019622     16.494132   \n",
       "std        14035.529381   6180.119770      0.143077      3.621789   \n",
       "min            1.000000      1.000000      1.000000      9.750000   \n",
       "25%        12155.750000   5337.000000      1.000000     12.750000   \n",
       "50%        24310.500000  10682.500000      1.000000     16.500000   \n",
       "75%        36465.250000  16100.000000      1.000000     20.250000   \n",
       "max        48620.000000  21350.000000      4.000000     35.950000   \n",
       "\n",
       "        total_price  \n",
       "count  48620.000000  \n",
       "mean      16.821474  \n",
       "std        4.437398  \n",
       "min        9.750000  \n",
       "25%       12.750000  \n",
       "50%       16.500000  \n",
       "75%       20.500000  \n",
       "max       83.000000  "
      ]
     },
     "execution_count": 7,
     "metadata": {},
     "output_type": "execute_result"
    }
   ],
   "source": [
    "# To known the basic statistics about the dataset\n",
    "\n",
    "pizza_df.describe()"
   ]
  },
  {
   "cell_type": "code",
   "execution_count": 8,
   "id": "26d86d08",
   "metadata": {},
   "outputs": [
    {
     "data": {
      "text/plain": [
       "order_details_id     0\n",
       "order_id             0\n",
       "pizza_id             0\n",
       "quantity             0\n",
       "order_date           0\n",
       "order_time           0\n",
       "unit_price           0\n",
       "total_price          0\n",
       "pizza_size           0\n",
       "pizza_category       0\n",
       "pizza_ingredients    0\n",
       "pizza_name           0\n",
       "dtype: int64"
      ]
     },
     "execution_count": 8,
     "metadata": {},
     "output_type": "execute_result"
    }
   ],
   "source": [
    "pizza_df.isna().sum()"
   ]
  },
  {
   "cell_type": "code",
   "execution_count": 9,
   "id": "25a826aa",
   "metadata": {},
   "outputs": [],
   "source": [
    "#we are done perfomimg EDA. moving over to the question\n",
    "\n",
    "#what days and times tend to be the busiest?\n",
    "\n",
    "#using the pandas library to convert the order_date and order_time column to order_datetime\n",
    "\n",
    "#But before we do that, we need to combine the order_date column and order_time column into a single datetime column"
   ]
  },
  {
   "cell_type": "code",
   "execution_count": 10,
   "id": "ba8bdfac",
   "metadata": {},
   "outputs": [],
   "source": [
    "# Convert 'order_time' column to datetime type\n",
    "\n",
    "pizza_df['order_time'] = pd.to_datetime(pizza_df['order_time'], format='%H:%M:%S').dt.time"
   ]
  },
  {
   "cell_type": "code",
   "execution_count": 11,
   "id": "dcf4d706",
   "metadata": {},
   "outputs": [],
   "source": [
    "# Combine 'order_date' and 'order_time' columns into 'order_datetime' column\n",
    "\n",
    "pizza_df['order_datetime'] = pd.to_datetime(pizza_df['order_date'].dt.strftime('%Y-%m-%d') + ' ' + pizza_df['order_time'].astype(str))"
   ]
  },
  {
   "cell_type": "code",
   "execution_count": 12,
   "id": "b6ae02dc",
   "metadata": {},
   "outputs": [
    {
     "data": {
      "text/html": [
       "<div>\n",
       "<style scoped>\n",
       "    .dataframe tbody tr th:only-of-type {\n",
       "        vertical-align: middle;\n",
       "    }\n",
       "\n",
       "    .dataframe tbody tr th {\n",
       "        vertical-align: top;\n",
       "    }\n",
       "\n",
       "    .dataframe thead th {\n",
       "        text-align: right;\n",
       "    }\n",
       "</style>\n",
       "<table border=\"1\" class=\"dataframe\">\n",
       "  <thead>\n",
       "    <tr style=\"text-align: right;\">\n",
       "      <th></th>\n",
       "      <th>order_details_id</th>\n",
       "      <th>order_id</th>\n",
       "      <th>pizza_id</th>\n",
       "      <th>quantity</th>\n",
       "      <th>order_date</th>\n",
       "      <th>order_time</th>\n",
       "      <th>unit_price</th>\n",
       "      <th>total_price</th>\n",
       "      <th>pizza_size</th>\n",
       "      <th>pizza_category</th>\n",
       "      <th>pizza_ingredients</th>\n",
       "      <th>pizza_name</th>\n",
       "      <th>order_datetime</th>\n",
       "    </tr>\n",
       "  </thead>\n",
       "  <tbody>\n",
       "    <tr>\n",
       "      <th>0</th>\n",
       "      <td>1</td>\n",
       "      <td>1</td>\n",
       "      <td>hawaiian_m</td>\n",
       "      <td>1</td>\n",
       "      <td>2015-01-01</td>\n",
       "      <td>11:38:36</td>\n",
       "      <td>13.25</td>\n",
       "      <td>13.25</td>\n",
       "      <td>M</td>\n",
       "      <td>Classic</td>\n",
       "      <td>Sliced Ham, Pineapple, Mozzarella Cheese</td>\n",
       "      <td>The Hawaiian Pizza</td>\n",
       "      <td>2015-01-01 11:38:36</td>\n",
       "    </tr>\n",
       "    <tr>\n",
       "      <th>1</th>\n",
       "      <td>2</td>\n",
       "      <td>2</td>\n",
       "      <td>classic_dlx_m</td>\n",
       "      <td>1</td>\n",
       "      <td>2015-01-01</td>\n",
       "      <td>11:57:40</td>\n",
       "      <td>16.00</td>\n",
       "      <td>16.00</td>\n",
       "      <td>M</td>\n",
       "      <td>Classic</td>\n",
       "      <td>Pepperoni, Mushrooms, Red Onions, Red Peppers,...</td>\n",
       "      <td>The Classic Deluxe Pizza</td>\n",
       "      <td>2015-01-01 11:57:40</td>\n",
       "    </tr>\n",
       "    <tr>\n",
       "      <th>2</th>\n",
       "      <td>3</td>\n",
       "      <td>2</td>\n",
       "      <td>five_cheese_l</td>\n",
       "      <td>1</td>\n",
       "      <td>2015-01-01</td>\n",
       "      <td>11:57:40</td>\n",
       "      <td>18.50</td>\n",
       "      <td>18.50</td>\n",
       "      <td>L</td>\n",
       "      <td>Veggie</td>\n",
       "      <td>Mozzarella Cheese, Provolone Cheese, Smoked Go...</td>\n",
       "      <td>The Five Cheese Pizza</td>\n",
       "      <td>2015-01-01 11:57:40</td>\n",
       "    </tr>\n",
       "    <tr>\n",
       "      <th>3</th>\n",
       "      <td>4</td>\n",
       "      <td>2</td>\n",
       "      <td>ital_supr_l</td>\n",
       "      <td>1</td>\n",
       "      <td>2015-01-01</td>\n",
       "      <td>11:57:40</td>\n",
       "      <td>20.75</td>\n",
       "      <td>20.75</td>\n",
       "      <td>L</td>\n",
       "      <td>Supreme</td>\n",
       "      <td>Calabrese Salami, Capocollo, Tomatoes, Red Oni...</td>\n",
       "      <td>The Italian Supreme Pizza</td>\n",
       "      <td>2015-01-01 11:57:40</td>\n",
       "    </tr>\n",
       "    <tr>\n",
       "      <th>4</th>\n",
       "      <td>5</td>\n",
       "      <td>2</td>\n",
       "      <td>mexicana_m</td>\n",
       "      <td>1</td>\n",
       "      <td>2015-01-01</td>\n",
       "      <td>11:57:40</td>\n",
       "      <td>16.00</td>\n",
       "      <td>16.00</td>\n",
       "      <td>M</td>\n",
       "      <td>Veggie</td>\n",
       "      <td>Tomatoes, Red Peppers, Jalapeno Peppers, Red O...</td>\n",
       "      <td>The Mexicana Pizza</td>\n",
       "      <td>2015-01-01 11:57:40</td>\n",
       "    </tr>\n",
       "  </tbody>\n",
       "</table>\n",
       "</div>"
      ],
      "text/plain": [
       "   order_details_id  order_id       pizza_id  quantity order_date order_time  \\\n",
       "0                 1         1     hawaiian_m         1 2015-01-01   11:38:36   \n",
       "1                 2         2  classic_dlx_m         1 2015-01-01   11:57:40   \n",
       "2                 3         2  five_cheese_l         1 2015-01-01   11:57:40   \n",
       "3                 4         2    ital_supr_l         1 2015-01-01   11:57:40   \n",
       "4                 5         2     mexicana_m         1 2015-01-01   11:57:40   \n",
       "\n",
       "   unit_price  total_price pizza_size pizza_category  \\\n",
       "0       13.25        13.25          M        Classic   \n",
       "1       16.00        16.00          M        Classic   \n",
       "2       18.50        18.50          L         Veggie   \n",
       "3       20.75        20.75          L        Supreme   \n",
       "4       16.00        16.00          M         Veggie   \n",
       "\n",
       "                                   pizza_ingredients  \\\n",
       "0           Sliced Ham, Pineapple, Mozzarella Cheese   \n",
       "1  Pepperoni, Mushrooms, Red Onions, Red Peppers,...   \n",
       "2  Mozzarella Cheese, Provolone Cheese, Smoked Go...   \n",
       "3  Calabrese Salami, Capocollo, Tomatoes, Red Oni...   \n",
       "4  Tomatoes, Red Peppers, Jalapeno Peppers, Red O...   \n",
       "\n",
       "                  pizza_name      order_datetime  \n",
       "0         The Hawaiian Pizza 2015-01-01 11:38:36  \n",
       "1   The Classic Deluxe Pizza 2015-01-01 11:57:40  \n",
       "2      The Five Cheese Pizza 2015-01-01 11:57:40  \n",
       "3  The Italian Supreme Pizza 2015-01-01 11:57:40  \n",
       "4         The Mexicana Pizza 2015-01-01 11:57:40  "
      ]
     },
     "execution_count": 12,
     "metadata": {},
     "output_type": "execute_result"
    }
   ],
   "source": [
    "pizza_df.head()"
   ]
  },
  {
   "cell_type": "code",
   "execution_count": 13,
   "id": "68a23727",
   "metadata": {},
   "outputs": [
    {
     "name": "stdout",
     "output_type": "stream",
     "text": [
      "       order_details_id  order_id       pizza_id  quantity order_date  \\\n",
      "0                     1         1     hawaiian_m         1 2015-01-01   \n",
      "1                     2         2  classic_dlx_m         1 2015-01-01   \n",
      "2                     3         2  five_cheese_l         1 2015-01-01   \n",
      "3                     4         2    ital_supr_l         1 2015-01-01   \n",
      "4                     5         2     mexicana_m         1 2015-01-01   \n",
      "...                 ...       ...            ...       ...        ...   \n",
      "48615             48616     21348  ckn_alfredo_m         1 2015-12-31   \n",
      "48616             48617     21348  four_cheese_l         1 2015-12-31   \n",
      "48617             48618     21348   napolitana_s         1 2015-12-31   \n",
      "48618             48619     21349     mexicana_l         1 2015-12-31   \n",
      "48619             48620     21350      bbq_ckn_s         1 2015-12-31   \n",
      "\n",
      "      order_time  unit_price  total_price pizza_size pizza_category  \\\n",
      "0       11:38:36       13.25        13.25          M        Classic   \n",
      "1       11:57:40       16.00        16.00          M        Classic   \n",
      "2       11:57:40       18.50        18.50          L         Veggie   \n",
      "3       11:57:40       20.75        20.75          L        Supreme   \n",
      "4       11:57:40       16.00        16.00          M         Veggie   \n",
      "...          ...         ...          ...        ...            ...   \n",
      "48615   21:23:10       16.75        16.75          M        Chicken   \n",
      "48616   21:23:10       17.95        17.95          L         Veggie   \n",
      "48617   21:23:10       12.00        12.00          S        Classic   \n",
      "48618   22:09:54       20.25        20.25          L         Veggie   \n",
      "48619   23:02:05       12.75        12.75          S        Chicken   \n",
      "\n",
      "                                       pizza_ingredients  \\\n",
      "0               Sliced Ham, Pineapple, Mozzarella Cheese   \n",
      "1      Pepperoni, Mushrooms, Red Onions, Red Peppers,...   \n",
      "2      Mozzarella Cheese, Provolone Cheese, Smoked Go...   \n",
      "3      Calabrese Salami, Capocollo, Tomatoes, Red Oni...   \n",
      "4      Tomatoes, Red Peppers, Jalapeno Peppers, Red O...   \n",
      "...                                                  ...   \n",
      "48615  Chicken, Red Onions, Red Peppers, Mushrooms, A...   \n",
      "48616  Ricotta Cheese, Gorgonzola Piccante Cheese, Mo...   \n",
      "48617  Tomatoes, Anchovies, Green Olives, Red Onions,...   \n",
      "48618  Tomatoes, Red Peppers, Jalapeno Peppers, Red O...   \n",
      "48619  Barbecued Chicken, Red Peppers, Green Peppers,...   \n",
      "\n",
      "                       pizza_name      order_datetime  \n",
      "0              The Hawaiian Pizza 2015-01-01 11:38:36  \n",
      "1        The Classic Deluxe Pizza 2015-01-01 11:57:40  \n",
      "2           The Five Cheese Pizza 2015-01-01 11:57:40  \n",
      "3       The Italian Supreme Pizza 2015-01-01 11:57:40  \n",
      "4              The Mexicana Pizza 2015-01-01 11:57:40  \n",
      "...                           ...                 ...  \n",
      "48615   The Chicken Alfredo Pizza 2015-12-31 21:23:10  \n",
      "48616       The Four Cheese Pizza 2015-12-31 21:23:10  \n",
      "48617        The Napolitana Pizza 2015-12-31 21:23:10  \n",
      "48618          The Mexicana Pizza 2015-12-31 22:09:54  \n",
      "48619  The Barbecue Chicken Pizza 2015-12-31 23:02:05  \n",
      "\n",
      "[48620 rows x 13 columns]\n"
     ]
    }
   ],
   "source": [
    "print (pizza_df)"
   ]
  },
  {
   "cell_type": "code",
   "execution_count": 14,
   "id": "6adb69c7",
   "metadata": {},
   "outputs": [],
   "source": [
    "# Extract the day of the week and hour from the 'order_datetime' column\n",
    "\n",
    "pizza_df['day_of_week'] = pizza_df['order_datetime'].dt.day_name()\n",
    "pizza_df['hour_of_day'] = pizza_df['order_datetime'].dt.hour"
   ]
  },
  {
   "cell_type": "code",
   "execution_count": 15,
   "id": "774df6f6",
   "metadata": {},
   "outputs": [],
   "source": [
    "# Calculate the count of orders for each day and hour\n",
    "\n",
    "busiest_times = pizza_df.groupby(['day_of_week', 'hour_of_day']).size().reset_index(name='order_count')\n",
    "\n"
   ]
  },
  {
   "cell_type": "code",
   "execution_count": 16,
   "id": "ac5a1895",
   "metadata": {},
   "outputs": [],
   "source": [
    "# Find the busiest day and time\n",
    "busiest_time = busiest_times.loc[busiest_times['order_count'].idxmax()]"
   ]
  },
  {
   "cell_type": "code",
   "execution_count": 17,
   "id": "07ff9b86",
   "metadata": {},
   "outputs": [
    {
     "name": "stdout",
     "output_type": "stream",
     "text": [
      "Busiest Day:  Thursday\n",
      "Busiest Time:  12 :00 - 13 :00\n"
     ]
    }
   ],
   "source": [
    "# Print the busiest day and time\n",
    "print(\"Busiest Day: \", busiest_time['day_of_week'])\n",
    "print(\"Busiest Time: \", busiest_time['hour_of_day'], \":00 -\", busiest_time['hour_of_day'] + 1, \":00\")"
   ]
  },
  {
   "cell_type": "code",
   "execution_count": 23,
   "id": "5783895e",
   "metadata": {},
   "outputs": [
    {
     "data": {
      "image/png": "[encoded data removed]",
      "text/plain": [
       "<Figure size 432x288 with 1 Axes>"
      ]
     },
     "metadata": {
      "needs_background": "light"
     },
     "output_type": "display_data"
    }
   ],
   "source": [
    "# Define the busiest day and time\n",
    "busiest_day = \"Thursday\"\n",
    "busiest_time = \"12:00 - 13:00\"\n",
    "\n",
    "# Create a list of days\n",
    "days = [\"Monday\", \"Tuesday\", \"Wednesday\", \"Thursday\", \"Friday\", \"Saturday\", \"Sunday\"]\n",
    "\n",
    "# Create a list of order counts per day\n",
    "order_counts = [10, 8, 15, 20, 18, 25, 15]  # Replace with your actual data\n",
    "\n",
    "# Find the index of the busiest day\n",
    "busiest_day_index = days.index(busiest_day)\n",
    "\n",
    "# Plot the chart\n",
    "plt.bar(days, order_counts)\n",
    "plt.xlabel('Day')\n",
    "plt.ylabel('Number of Orders')\n",
    "plt.title('Busiest Day and Time')\n",
    "plt.xticks(rotation=45)\n",
    "plt.grid(True)\n",
    "\n",
    "# Highlight the busiest day with a different color\n",
    "plt.bar(busiest_day_index, order_counts[busiest_day_index], color='green')\n",
    "\n",
    "# Annotate the busiest time on the chart\n",
    "plt.annotate(busiest_time, xy=(busiest_day_index, order_counts[busiest_day_index]),\n",
    "             xytext=(busiest_day_index, order_counts[busiest_day_index] + 2),\n",
    "             ha='center', color='white')\n",
    "\n",
    "# Show the chart\n",
    "plt.show()\n",
    "\n"
   ]
  },
  {
   "cell_type": "code",
   "execution_count": 24,
   "id": "2cdc121d",
   "metadata": {},
   "outputs": [],
   "source": [
    "#we assumes that you have a list of days (days) and the corresponding number of orders (order_counts) for each day. You need to replace the sample data with your actual data.\n",
    "\n",
    "#we will plot a bar chart with the x-axis representing the days and the y-axis representing the number of orders. The busiest day (Thursday) will be highlighted in green, and the busiest time (12:00 - 13:00) will be annotated on the chart."
   ]
  },
  {
   "cell_type": "code",
   "execution_count": 25,
   "id": "7f78579f",
   "metadata": {},
   "outputs": [],
   "source": [
    "#over to next question\n",
    "\n",
    "#How many pizzas are we making during peak periods?\n",
    "\n",
    "#To determine the number of pizzas made during peak periods, you can calculate the total count of pizzas for specific time intervals when the pizza company tends to be busiest. \n",
    "\n"
   ]
  },
  {
   "cell_type": "code",
   "execution_count": 26,
   "id": "9ff93944",
   "metadata": {},
   "outputs": [],
   "source": [
    "\n",
    "# Define the peak period time range\n",
    "peak_start_hour = 12\n",
    "peak_end_hour = 13"
   ]
  },
  {
   "cell_type": "code",
   "execution_count": 27,
   "id": "fcc13fb6",
   "metadata": {},
   "outputs": [],
   "source": [
    "# Filter the DataFrame to include only orders within the peak period\n",
    "peak_period_df = pizza_df.loc[(pizza_df['hour_of_day'] >= peak_start_hour) & (pizza_df['hour_of_day'] < peak_end_hour)]"
   ]
  },
  {
   "cell_type": "code",
   "execution_count": 28,
   "id": "fd2e3c39",
   "metadata": {},
   "outputs": [],
   "source": [
    "# Calculate the total number of pizzas made during peak periods\n",
    "total_pizzas_during_peak = peak_period_df['quantity'].sum()"
   ]
  },
  {
   "cell_type": "code",
   "execution_count": 29,
   "id": "d687b769",
   "metadata": {},
   "outputs": [
    {
     "name": "stdout",
     "output_type": "stream",
     "text": [
      "Total number of pizzas made during peak periods: 6776\n"
     ]
    }
   ],
   "source": [
    "# Print the result\n",
    "print(\"Total number of pizzas made during peak periods:\", total_pizzas_during_peak)"
   ]
  },
  {
   "cell_type": "code",
   "execution_count": 30,
   "id": "d1f2545a",
   "metadata": {},
   "outputs": [],
   "source": [
    "# Calculate the number of pizzas made per hour during the peak period\n",
    "pizzas_per_hour =total_pizzas_during_peak / (peak_end_hour - peak_start_hour)\n",
    "\n",
    "\n",
    "# Create a list of hours during the peak period\n",
    "peak_hours = list(range(peak_start_hour, peak_end_hour + 1))\n",
    "\n",
    "\n",
    "# Create a list of the number of pizzas made per hour\n",
    "pizzas_made = [pizzas_per_hour] * len(peak_hours)"
   ]
  },
  {
   "cell_type": "code",
   "execution_count": 31,
   "id": "ee86f38b",
   "metadata": {},
   "outputs": [
    {
     "data": {
      "image/png": "[encoded data removed]",
      "text/plain": [
       "<Figure size 432x288 with 1 Axes>"
      ]
     },
     "metadata": {
      "needs_background": "light"
     },
     "output_type": "display_data"
    }
   ],
   "source": [
    "# Plot the chart\n",
    "plt.bar(peak_hours, pizzas_made)\n",
    "plt.xlabel('Hour')\n",
    "plt.ylabel('Number of Pizzas')\n",
    "plt.title('Number of Pizzas Made During Peak Period')\n",
    "plt.grid(True)\n",
    "\n",
    "# Show the chart\n",
    "plt.show()"
   ]
  },
  {
   "cell_type": "code",
   "execution_count": 32,
   "id": "fbd4ff5d",
   "metadata": {},
   "outputs": [],
   "source": [
    "#calculates the number of pizzas made per hour during the peak period by dividing the total number of pizzas made during this period by the duration of the peak period (peak_end_hour - peak_start_hour).\n",
    "\n",
    "#Then, it creates a list of hours during the peak period (peak_hours) and a corresponding list of the number of pizzas made per hour (pizzas_made), where each hour has the same value of pizzas_per_hour.\n",
    "\n",
    "#The code then plots a bar chart with the x-axis representing the hour and the y-axis representing the number of pizzas made. Each bar in the chart represents the same number of pizzas made during the peak period."
   ]
  },
  {
   "cell_type": "code",
   "execution_count": 33,
   "id": "1b8f514a",
   "metadata": {},
   "outputs": [],
   "source": [
    "#What are our best and worst-selling pizzas?\n",
    "\n",
    "#To determine the best and worst-selling pizzas, you can analyze the pizza order data and calculate the total quantity of each pizza type."
   ]
  },
  {
   "cell_type": "code",
   "execution_count": 34,
   "id": "a342cd62",
   "metadata": {},
   "outputs": [],
   "source": [
    "# Calculate the total quantity of each pizza type\n",
    "\n",
    "pizza_sales = pizza_df.groupby('pizza_category')['quantity'].sum().reset_index()\n"
   ]
  },
  {
   "cell_type": "code",
   "execution_count": 35,
   "id": "e6dba8ee",
   "metadata": {},
   "outputs": [],
   "source": [
    "# Sort the pizza sales in descending order\n",
    "sorted_pizza_sales = pizza_sales.sort_values('quantity', ascending=False)"
   ]
  },
  {
   "cell_type": "code",
   "execution_count": 36,
   "id": "bfcf7409",
   "metadata": {},
   "outputs": [],
   "source": [
    "# Extract the best-selling pizza\n",
    "best_selling_pizza = sorted_pizza_sales.iloc[0]"
   ]
  },
  {
   "cell_type": "code",
   "execution_count": 37,
   "id": "84f02612",
   "metadata": {},
   "outputs": [],
   "source": [
    "# Extract the worst-selling pizza\n",
    "worst_selling_pizza = sorted_pizza_sales.iloc[-1]"
   ]
  },
  {
   "cell_type": "code",
   "execution_count": 38,
   "id": "3f098482",
   "metadata": {},
   "outputs": [
    {
     "name": "stdout",
     "output_type": "stream",
     "text": [
      "Best-selling pizza: Classic\n",
      "Quantity sold: 14888\n",
      "\n",
      "Worst-selling pizza: Chicken\n",
      "Quantity sold: 11050\n"
     ]
    }
   ],
   "source": [
    "# Print the results\n",
    "print(\"Best-selling pizza:\", best_selling_pizza['pizza_category'])\n",
    "print(\"Quantity sold:\", best_selling_pizza['quantity'])\n",
    "print(\"\\nWorst-selling pizza:\", worst_selling_pizza['pizza_category'])\n",
    "print(\"Quantity sold:\", worst_selling_pizza['quantity'])"
   ]
  },
  {
   "cell_type": "code",
   "execution_count": 39,
   "id": "77f7d4f8",
   "metadata": {},
   "outputs": [],
   "source": [
    "#The code reads the CSV file into a DataFrame and groups the data by 'pizza_category'. It then calculates the total quantity of each pizza type by summing the 'quantity' column for each group. The results are stored in the pizza_sales DataFrame.\n",
    "\n",
    "#Next, the pizza sales are sorted in descending order based on the total quantity of pizzas sold using the sort_values() function.\n",
    "\n",
    "#The best-selling pizza is extracted from the sorted data using .iloc[0], which retrieves the first row. Similarly, the worst-selling pizza is extracted using .iloc[-1], which retrieves the last row.\n",
    "\n",
    "#Finally, the code prints out the best-selling pizza along with the quantity sold, followed by the worst-selling pizza and its quantity sold."
   ]
  },
  {
   "cell_type": "code",
   "execution_count": 40,
   "id": "bfaefd09",
   "metadata": {},
   "outputs": [],
   "source": [
    "# Define the best-selling and worst-selling pizzas\n",
    "best_selling_pizza = \"Classic\"\n",
    "best_selling_quantity = 14888\n",
    "\n",
    "worst_selling_pizza = \"Chicken\"\n",
    "worst_selling_quantity = 11050\n",
    "\n",
    "\n",
    "# Create a list of pizza names\n",
    "pizza_names = [best_selling_pizza, worst_selling_pizza]\n",
    "\n",
    "# Create a list of quantities sold\n",
    "quantities_sold = [best_selling_quantity, worst_selling_quantity]\n",
    "\n"
   ]
  },
  {
   "cell_type": "code",
   "execution_count": 41,
   "id": "84256e79",
   "metadata": {},
   "outputs": [
    {
     "data": {
      "image/png": "[encoded data removed]",
      "text/plain": [
       "<Figure size 432x288 with 1 Axes>"
      ]
     },
     "metadata": {
      "needs_background": "light"
     },
     "output_type": "display_data"
    }
   ],
   "source": [
    "# Plot the chart\n",
    "plt.bar(pizza_names, quantities_sold)\n",
    "plt.xlabel('Pizza')\n",
    "plt.ylabel('Quantity Sold')\n",
    "plt.title('Best-selling and Worst-selling Pizzas')\n",
    "plt.grid(True)\n",
    "\n",
    "# Show the chart\n",
    "plt.show()"
   ]
  },
  {
   "cell_type": "code",
   "execution_count": 42,
   "id": "3370518e",
   "metadata": {},
   "outputs": [],
   "source": [
    "\n",
    "#we  creates two lists: pizza_names contains the names of the best-selling and worst-selling pizzas, and quantities_sold contains the corresponding quantities sold for each pizza.\n",
    "\n",
    "#we then plots a bar chart with the x-axis representing the pizza names and the y-axis representing the quantity sold. Each bar in the chart represents the quantity sold for a particular pizza."
   ]
  },
  {
   "cell_type": "code",
   "execution_count": 43,
   "id": "434e3e6c",
   "metadata": {},
   "outputs": [],
   "source": [
    "#What's our average order value?\n",
    "\n",
    "#To calculate the average order value for a pizza company, you need to analyze the order data and compute the average of the order values."
   ]
  },
  {
   "cell_type": "code",
   "execution_count": 44,
   "id": "1c5711f4",
   "metadata": {},
   "outputs": [],
   "source": [
    "# Calculate the order value for each order\n",
    "pizza_df['order_value'] = pizza_df['quantity'] * pizza_df['total_price']"
   ]
  },
  {
   "cell_type": "code",
   "execution_count": 45,
   "id": "5c5ee8ac",
   "metadata": {},
   "outputs": [],
   "source": [
    "# Calculate the average order value\n",
    "average_order_value = pizza_df['order_value'].mean()"
   ]
  },
  {
   "cell_type": "code",
   "execution_count": 46,
   "id": "bd04258a",
   "metadata": {},
   "outputs": [
    {
     "name": "stdout",
     "output_type": "stream",
     "text": [
      "Average order value: 17.49559337721084\n"
     ]
    }
   ],
   "source": [
    "# Print the result\n",
    "print(\"Average order value:\", average_order_value)"
   ]
  },
  {
   "cell_type": "code",
   "execution_count": 47,
   "id": "11fcba7d",
   "metadata": {},
   "outputs": [],
   "source": [
    "#The code reads the CSV file into a DataFrame. Then, it calculates the order value for each order by multiplying the quantity of pizzas ('quantity') with the price per pizza ('total_price'). The resulting order values are stored in a new column called 'order_value'.\n",
    "\n",
    "#Next, the average order value is computed by taking the mean of the 'order_value' column using the .mean() function.\n",
    "\n",
    "#Finally, the code prints out the average order value."
   ]
  },
  {
   "cell_type": "code",
   "execution_count": 48,
   "id": "c47fa6b2",
   "metadata": {},
   "outputs": [
    {
     "data": {
      "image/png": "[encoded data removed]",
      "text/plain": [
       "<Figure size 432x288 with 1 Axes>"
      ]
     },
     "metadata": {
      "needs_background": "light"
     },
     "output_type": "display_data"
    }
   ],
   "source": [
    "# Define the average order value\n",
    "average_order_value = 17.49559337721084\n",
    "\n",
    "# Plot the chart\n",
    "plt.bar(\"Average Order Value\", average_order_value)\n",
    "plt.ylabel('Value')\n",
    "plt.title('Average Order Value')\n",
    "plt.ylim(0, max(average_order_value, 10) + 5)  # Adjust the y-axis limit for better visualization\n",
    "plt.grid(True)\n",
    "\n",
    "# Show the chart\n",
    "plt.show()"
   ]
  },
  {
   "cell_type": "code",
   "execution_count": null,
   "id": "270e4232",
   "metadata": {},
   "outputs": [],
   "source": [
    "#we plot a bar chart with the average order value represented as a single bar. \n",
    "#The y-axis represents the value, and the x-axis represents the label \"Average Order Value\". The y-axis limit is adjusted to ensure the bar is properly visualized."
   ]
  }
 ],
 "metadata": {
  "kernelspec": {
   "display_name": "Python 3 (ipykernel)",
   "language": "python",
   "name": "python3"
  },
  "language_info": {
   "codemirror_mode": {
    "name": "ipython",
    "version": 3
   },
   "file_extension": ".py",
   "mimetype": "text/x-python",
   "name": "python",
   "nbconvert_exporter": "python",
   "pygments_lexer": "ipython3",
   "version": "3.9.12"
  }
 },
 "nbformat": 4,
 "nbformat_minor": 5
}
